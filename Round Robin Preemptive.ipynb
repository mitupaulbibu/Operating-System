{
 "cells": [
  {
   "cell_type": "code",
   "execution_count": 101,
   "id": "5abde25e",
   "metadata": {
    "scrolled": true
   },
   "outputs": [
    {
     "name": "stdout",
     "output_type": "stream",
     "text": [
      "Number of process :5\n"
     ]
    }
   ],
   "source": [
    "n=int(input(\"Number of process :\"))"
   ]
  },
  {
   "cell_type": "code",
   "execution_count": 102,
   "id": "7a16488c",
   "metadata": {},
   "outputs": [],
   "source": [
    "arr = [[0 for i in range(8)] for j in range(n)]"
   ]
  },
  {
   "cell_type": "code",
   "execution_count": 103,
   "id": "9ef6dd5e",
   "metadata": {},
   "outputs": [
    {
     "name": "stdout",
     "output_type": "stream",
     "text": [
      "[[0, 0, 0, 0, 0, 0, 0, 0], [0, 0, 0, 0, 0, 0, 0, 0], [0, 0, 0, 0, 0, 0, 0, 0], [0, 0, 0, 0, 0, 0, 0, 0], [0, 0, 0, 0, 0, 0, 0, 0]]\n"
     ]
    }
   ],
   "source": [
    "print(arr)"
   ]
  },
  {
   "cell_type": "code",
   "execution_count": 104,
   "id": "28c80560",
   "metadata": {},
   "outputs": [
    {
     "name": "stdout",
     "output_type": "stream",
     "text": [
      "1 0 10\n",
      "2 3 6\n",
      "3 8 4\n",
      "4 5 3\n",
      "5 1 1\n"
     ]
    }
   ],
   "source": [
    "for i in range(n):\n",
    "    pid, at, bt = input().split()\n",
    "    arr[i][0] = int(pid)\n",
    "    arr[i][1] = int(at)\n",
    "    arr[i][2] = int(bt)\n",
    "    arr[i][3] = int(bt) # remaining burst time"
   ]
  },
  {
   "cell_type": "code",
   "execution_count": 105,
   "id": "b19795c5",
   "metadata": {},
   "outputs": [
    {
     "name": "stdout",
     "output_type": "stream",
     "text": [
      "[[1, 0, 10, 10, 0, 0, 0, 0], [2, 3, 6, 6, 0, 0, 0, 0], [3, 8, 4, 4, 0, 0, 0, 0], [4, 5, 3, 3, 0, 0, 0, 0], [5, 1, 1, 1, 0, 0, 0, 0]]\n"
     ]
    }
   ],
   "source": [
    "print(arr)"
   ]
  },
  {
   "cell_type": "code",
   "execution_count": 106,
   "id": "cb3e26ac",
   "metadata": {},
   "outputs": [],
   "source": [
    "arr = sorted(arr,key= lambda x:x[1])"
   ]
  },
  {
   "cell_type": "code",
   "execution_count": 107,
   "id": "0ad47925",
   "metadata": {},
   "outputs": [
    {
     "name": "stdout",
     "output_type": "stream",
     "text": [
      "[[1, 0, 10, 10, 0, 0, 0, 0], [5, 1, 1, 1, 0, 0, 0, 0], [2, 3, 6, 6, 0, 0, 0, 0], [4, 5, 3, 3, 0, 0, 0, 0], [3, 8, 4, 4, 0, 0, 0, 0]]\n"
     ]
    }
   ],
   "source": [
    "print(arr)"
   ]
  },
  {
   "cell_type": "code",
   "execution_count": 108,
   "id": "922e4bdc",
   "metadata": {},
   "outputs": [],
   "source": [
    "import sys"
   ]
  },
  {
   "cell_type": "code",
   "execution_count": 109,
   "id": "f94a991b",
   "metadata": {},
   "outputs": [
    {
     "name": "stdout",
     "output_type": "stream",
     "text": [
      "Time Quanta :2\n"
     ]
    }
   ],
   "source": [
    "tq = int(input(\"Time Quanta :\"))\n",
    "queue = []"
   ]
  },
  {
   "cell_type": "code",
   "execution_count": 110,
   "id": "ad542cd7",
   "metadata": {},
   "outputs": [
    {
     "name": "stdout",
     "output_type": "stream",
     "text": [
      "1\n",
      "5\n",
      "1\n",
      "2\n",
      "4\n",
      "1\n",
      "2\n",
      "3\n",
      "4\n",
      "1\n",
      "2\n",
      "3\n",
      "1\n"
     ]
    }
   ],
   "source": [
    "c = 0\n",
    "visited = []\n",
    "current_time = arr[0][1]\n",
    "queue.append(0)\n",
    "visited.append(0)\n",
    "\n",
    "while(c<n):\n",
    "    idx = queue.pop(0)  \n",
    "    print(arr[idx][0])\n",
    "    if arr[idx][2] == arr[idx][3]:\n",
    "        arr[idx][4] = current_time - arr[idx][1]\n",
    "        \n",
    "    ex_time = min(arr[idx][3], tq)\n",
    "    arr[idx][3] = arr[idx][3] - ex_time\n",
    "    \n",
    "    current_time = current_time + ex_time\n",
    "    \n",
    "    for i in range(n):\n",
    "        if arr[i][1] <= current_time and i not in visited and i != idx:\n",
    "            queue.append(i)\n",
    "            visited.append(i)\n",
    "    \n",
    "    if arr[idx][3] == 0:\n",
    "        arr[idx][5] = current_time\n",
    "        c = c+1\n",
    "    else:\n",
    "        queue.append(idx)"
   ]
  },
  {
   "cell_type": "code",
   "execution_count": 111,
   "id": "822ea9e8",
   "metadata": {},
   "outputs": [
    {
     "name": "stdout",
     "output_type": "stream",
     "text": [
      "[[1, 0, 10, 0, 0, 24, 0, 0], [5, 1, 1, 0, 1, 3, 0, 0], [2, 3, 6, 0, 2, 20, 0, 0], [4, 5, 3, 0, 2, 16, 0, 0], [3, 8, 4, 0, 5, 22, 0, 0]]\n"
     ]
    }
   ],
   "source": [
    "print(arr)"
   ]
  },
  {
   "cell_type": "code",
   "execution_count": 112,
   "id": "5ba387a7",
   "metadata": {},
   "outputs": [],
   "source": [
    "arr = sorted(arr, key=lambda x:x[0])"
   ]
  },
  {
   "cell_type": "code",
   "execution_count": 113,
   "id": "a33ee90e",
   "metadata": {},
   "outputs": [
    {
     "name": "stdout",
     "output_type": "stream",
     "text": [
      "[[1, 0, 10, 0, 0, 24, 0, 0], [2, 3, 6, 0, 2, 20, 0, 0], [3, 8, 4, 0, 5, 22, 0, 0], [4, 5, 3, 0, 2, 16, 0, 0], [5, 1, 1, 0, 1, 3, 0, 0]]\n"
     ]
    }
   ],
   "source": [
    "print(arr)"
   ]
  },
  {
   "cell_type": "code",
   "execution_count": 114,
   "id": "276f5362",
   "metadata": {},
   "outputs": [],
   "source": [
    "for i in range(n):\n",
    "    arr[i][7] = arr[i][5] - arr[i][1]\n",
    "    arr[i][6] = arr[i][7] - arr[i][2]"
   ]
  },
  {
   "cell_type": "code",
   "execution_count": 115,
   "id": "9c01b932",
   "metadata": {},
   "outputs": [
    {
     "name": "stdout",
     "output_type": "stream",
     "text": [
      "[[1, 0, 10, 0, 0, 24, 14, 24], [2, 3, 6, 0, 2, 20, 11, 17], [3, 8, 4, 0, 5, 22, 10, 14], [4, 5, 3, 0, 2, 16, 8, 11], [5, 1, 1, 0, 1, 3, 1, 2]]\n"
     ]
    }
   ],
   "source": [
    "print(arr)"
   ]
  },
  {
   "cell_type": "code",
   "execution_count": null,
   "id": "57eb91cf",
   "metadata": {},
   "outputs": [],
   "source": []
  }
 ],
 "metadata": {
  "kernelspec": {
   "display_name": "Python 3 (ipykernel)",
   "language": "python",
   "name": "python3"
  },
  "language_info": {
   "codemirror_mode": {
    "name": "ipython",
    "version": 3
   },
   "file_extension": ".py",
   "mimetype": "text/x-python",
   "name": "python",
   "nbconvert_exporter": "python",
   "pygments_lexer": "ipython3",
   "version": "3.9.13"
  }
 },
 "nbformat": 4,
 "nbformat_minor": 5
}
