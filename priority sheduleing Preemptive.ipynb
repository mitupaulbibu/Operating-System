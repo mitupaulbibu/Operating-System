{
 "cells": [
  {
   "cell_type": "code",
   "execution_count": 1,
   "metadata": {},
   "outputs": [
    {
     "name": "stdout",
     "output_type": "stream",
     "text": [
      "Number of process :5\n"
     ]
    }
   ],
   "source": [
    "n=int(input(\"Number of process :\"))"
   ]
  },
  {
   "cell_type": "code",
   "execution_count": 2,
   "metadata": {},
   "outputs": [],
   "source": [
    "arr = [[0 for i in range(8)] for j in range(n)]"
   ]
  },
  {
   "cell_type": "code",
   "execution_count": 3,
   "metadata": {},
   "outputs": [
    {
     "name": "stdout",
     "output_type": "stream",
     "text": [
      "[[0, 0, 0, 0, 0, 0, 0, 0], [0, 0, 0, 0, 0, 0, 0, 0], [0, 0, 0, 0, 0, 0, 0, 0], [0, 0, 0, 0, 0, 0, 0, 0], [0, 0, 0, 0, 0, 0, 0, 0]]\n"
     ]
    }
   ],
   "source": [
    "print(arr)"
   ]
  },
  {
   "cell_type": "code",
   "execution_count": 4,
   "metadata": {},
   "outputs": [
    {
     "name": "stdout",
     "output_type": "stream",
     "text": [
      "1 0 2 12\n",
      "2 1 4 4\n",
      "3 0 6 10\n",
      "4 2 1 3\n",
      "5 3 5 6\n"
     ]
    }
   ],
   "source": [
    "for i in range(n):\n",
    "    pid,at,bt,pr = input().split()\n",
    "    arr[i][0]=int(pid)\n",
    "    arr[i][1]=int(at)\n",
    "    arr[i][2]=int(bt)\n",
    "    arr[i][3]=int(pr)\n",
    "    \n",
    "    "
   ]
  },
  {
   "cell_type": "code",
   "execution_count": 5,
   "metadata": {},
   "outputs": [
    {
     "name": "stdout",
     "output_type": "stream",
     "text": [
      "[[1, 0, 2, 12, 0, 0, 0, 0], [2, 1, 4, 4, 0, 0, 0, 0], [3, 0, 6, 10, 0, 0, 0, 0], [4, 2, 1, 3, 0, 0, 0, 0], [5, 3, 5, 6, 0, 0, 0, 0]]\n"
     ]
    }
   ],
   "source": [
    "print(arr)"
   ]
  },
  {
   "cell_type": "code",
   "execution_count": 6,
   "metadata": {},
   "outputs": [],
   "source": [
    "arr = sorted(arr,key= lambda x:x[1])"
   ]
  },
  {
   "cell_type": "code",
   "execution_count": 7,
   "metadata": {},
   "outputs": [
    {
     "name": "stdout",
     "output_type": "stream",
     "text": [
      "[[1, 0, 2, 12, 0, 0, 0, 0], [3, 0, 6, 10, 0, 0, 0, 0], [2, 1, 4, 4, 0, 0, 0, 0], [4, 2, 1, 3, 0, 0, 0, 0], [5, 3, 5, 6, 0, 0, 0, 0]]\n"
     ]
    }
   ],
   "source": [
    "print(arr)"
   ]
  },
  {
   "cell_type": "code",
   "execution_count": 8,
   "metadata": {},
   "outputs": [],
   "source": [
    "import sys\n"
   ]
  },
  {
   "cell_type": "code",
   "execution_count": 9,
   "metadata": {},
   "outputs": [],
   "source": [
    "def bubbleSort(arr,k):\n",
    "    for i in range(k,len(arr)):\n",
    "\n",
    "        for j in range(k,len(arr)+k-i-1):\n",
    "            \n",
    "            if arr[j][3] < arr[j+1][3] and arr[j][1] <= current_time and arr[j+1][1] <= current_time:\n",
    "                arr[j],arr[j+1] = arr[j+1], arr[j]\n",
    "    \n",
    "    return(arr)"
   ]
  },
  {
   "cell_type": "code",
   "execution_count": 22,
   "metadata": {},
   "outputs": [],
   "source": [
    "avg_rt = 0\n",
    "avg_ct = 0\n",
    "avg_wt = 0\n",
    "avg_tt = 0\n",
    "c = 0\n",
    "while(c<n):\n",
    "    idx = -1\n",
    "    sbt = sys.maxsize\n",
    "    for i in range(n):\n",
    "        bubbleSort(arr,i)\n",
    "        at = arr[i][1]\n",
    "        bt = arr[i][2]\n",
    "        if arr[i][1] <= current_time and arr[i][3] < sbt and arr[i][3] != 0:\n",
    "            sbt = arr[i][3]\n",
    "            idx = i\n",
    "    if idx != -1:\n",
    "        if arr[idx][2] == arr[idx][3]:\n",
    "            arr[idx][4] = current_time - arr[idx][1]\n",
    "        arr[idx][3] = arr[idx][3] - 1\n",
    "    current_time = current_time + 1\n",
    "    if arr[idx][3] == 0:\n",
    "        arr[idx][5] = current_time\n",
    "        c = c+1\n"
   ]
  },
  {
   "cell_type": "code",
   "execution_count": 23,
   "metadata": {},
   "outputs": [
    {
     "name": "stdout",
     "output_type": "stream",
     "text": [
      "[[1, 0, 2, 0, 33, 35, 0, 0], [2, 1, 4, 0, 36, 37, 32, 36], [3, 0, 6, 0, 17, 23, 0, 0], [4, 2, 1, 0, 5, 8, 0, 0], [5, 3, 5, 0, 6, 42, 0, 0]]\n"
     ]
    }
   ],
   "source": [
    "print(arr)"
   ]
  },
  {
   "cell_type": "code",
   "execution_count": 24,
   "metadata": {},
   "outputs": [],
   "source": [
    "arr = sorted(arr, key=lambda x:x[0])"
   ]
  },
  {
   "cell_type": "code",
   "execution_count": 25,
   "metadata": {},
   "outputs": [
    {
     "name": "stdout",
     "output_type": "stream",
     "text": [
      "[[1, 0, 2, 0, 33, 35, 0, 0], [2, 1, 4, 0, 36, 37, 32, 36], [3, 0, 6, 0, 17, 23, 0, 0], [4, 2, 1, 0, 5, 8, 0, 0], [5, 3, 5, 0, 6, 42, 0, 0]]\n"
     ]
    }
   ],
   "source": [
    "print(arr)"
   ]
  },
  {
   "cell_type": "code",
   "execution_count": 26,
   "metadata": {},
   "outputs": [],
   "source": [
    "for i in range(n):\n",
    "    arr[i][7] = arr[i][5] - arr[i][1]\n",
    "    arr[i][6] = arr[i][7] - arr[i][2] "
   ]
  },
  {
   "cell_type": "code",
   "execution_count": 27,
   "metadata": {},
   "outputs": [
    {
     "name": "stdout",
     "output_type": "stream",
     "text": [
      "[[1, 0, 2, 0, 33, 35, 33, 35], [2, 1, 4, 0, 36, 37, 32, 36], [3, 0, 6, 0, 17, 23, 17, 23], [4, 2, 1, 0, 5, 8, 5, 6], [5, 3, 5, 0, 6, 42, 34, 39]]\n"
     ]
    }
   ],
   "source": [
    "print(arr)"
   ]
  },
  {
   "cell_type": "code",
   "execution_count": null,
   "metadata": {},
   "outputs": [],
   "source": []
  }
 ],
 "metadata": {
  "kernelspec": {
   "display_name": "Python 3",
   "language": "python",
   "name": "python3"
  },
  "language_info": {
   "codemirror_mode": {
    "name": "ipython",
    "version": 3
   },
   "file_extension": ".py",
   "mimetype": "text/x-python",
   "name": "python",
   "nbconvert_exporter": "python",
   "pygments_lexer": "ipython3",
   "version": "3.8.5"
  }
 },
 "nbformat": 4,
 "nbformat_minor": 4
}
